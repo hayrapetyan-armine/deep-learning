{
  "nbformat": 4,
  "nbformat_minor": 0,
  "metadata": {
    "kernelspec": {
      "name": "python3",
      "display_name": "Python 3"
    },
    "language_info": {
      "codemirror_mode": {
        "name": "ipython",
        "version": 3
      },
      "file_extension": ".py",
      "mimetype": "text/x-python",
      "name": "python",
      "nbconvert_exporter": "python",
      "pygments_lexer": "ipython3",
      "version": "3.6.2"
    },
    "colab": {
      "name": "hw1.ipynb",
      "provenance": [],
      "collapsed_sections": []
    },
    "accelerator": "GPU"
  },
  "cells": [
    {
      "cell_type": "code",
      "metadata": {
        "id": "Is_xDcmZkKEx",
        "colab_type": "code",
        "colab": {}
      },
      "source": [
        "import numpy as np\n",
        "from sklearn.model_selection import train_test_split \n",
        "from sklearn.linear_model import LinearRegression\n",
        "from sklearn import metrics\n",
        "import matplotlib.pyplot as plt"
      ],
      "execution_count": 0,
      "outputs": []
    },
    {
      "cell_type": "markdown",
      "metadata": {
        "id": "K1WhJDDhkKE3",
        "colab_type": "text"
      },
      "source": [
        "### Generate N = 10000 random numbers from [0, 1]:"
      ]
    },
    {
      "cell_type": "code",
      "metadata": {
        "id": "hg1N_qp_kKE5",
        "colab_type": "code",
        "colab": {}
      },
      "source": [
        "np.random.seed(seed = 42)\n",
        "X = (np.random.random(10000)).reshape(10000, 1)\n",
        "y = np.sqrt(1 + X)"
      ],
      "execution_count": 0,
      "outputs": []
    },
    {
      "cell_type": "code",
      "metadata": {
        "id": "B1xuFJINkKE8",
        "colab_type": "code",
        "colab": {
          "base_uri": "https://localhost:8080/",
          "height": 35
        },
        "outputId": "999e6e19-55b5-40f0-c6d5-99ffbd371446"
      },
      "source": [
        "X.min(), X.max()"
      ],
      "execution_count": 4,
      "outputs": [
        {
          "output_type": "execute_result",
          "data": {
            "text/plain": [
              "(1.1634755366141114e-05, 0.9997176732861306)"
            ]
          },
          "metadata": {
            "tags": []
          },
          "execution_count": 4
        }
      ]
    },
    {
      "cell_type": "code",
      "metadata": {
        "id": "7lc7Q2vMkKFC",
        "colab_type": "code",
        "colab": {}
      },
      "source": [
        "X_train, X_test, y_train, y_test = train_test_split(X, y, test_size=0.2, random_state=0)"
      ],
      "execution_count": 0,
      "outputs": []
    },
    {
      "cell_type": "code",
      "metadata": {
        "id": "L0y5DuhekKFH",
        "colab_type": "code",
        "colab": {}
      },
      "source": [
        "ones = np.ones(shape = X_train.shape)\n",
        "X_train_ = np.append(X_train, ones, axis = 1)\n",
        "ones = np.ones(shape = X_test.shape)\n",
        "X_test_ = np.append(X_test, ones, axis = 1)"
      ],
      "execution_count": 0,
      "outputs": []
    },
    {
      "cell_type": "markdown",
      "metadata": {
        "id": "6-v92JXDkKFK",
        "colab_type": "text"
      },
      "source": [
        "### Do linear regression on your generated data using the closed form solution."
      ]
    },
    {
      "cell_type": "code",
      "metadata": {
        "id": "vU6xHNzzkKFM",
        "colab_type": "code",
        "colab": {}
      },
      "source": [
        "def predict_closed_form(X, theta):\n",
        "    return np.dot(X, theta)"
      ],
      "execution_count": 0,
      "outputs": []
    },
    {
      "cell_type": "code",
      "metadata": {
        "id": "uqIziwOUkKFP",
        "colab_type": "code",
        "colab": {}
      },
      "source": [
        "def getThetaClosedForm(X, y):\n",
        "    \n",
        "    theta = np.linalg.pinv(np.dot(X.transpose(), X)).dot(X.T).dot(y)\n",
        "    \n",
        "    return theta"
      ],
      "execution_count": 0,
      "outputs": []
    },
    {
      "cell_type": "code",
      "metadata": {
        "id": "VdSOgV5-kKFT",
        "colab_type": "code",
        "colab": {
          "base_uri": "https://localhost:8080/",
          "height": 35
        },
        "outputId": "64fbb8d1-4854-4794-e41d-32812242fe1c"
      },
      "source": [
        "theta = getThetaClosedForm(X_train_, y_train)\n",
        "closed_form_coef, closed_form_intercept = theta[0][0], theta[1][0]\n",
        "closed_form_coef, closed_form_intercept"
      ],
      "execution_count": 9,
      "outputs": [
        {
          "output_type": "execute_result",
          "data": {
            "text/plain": [
              "(0.4119081772556847, 1.0130662961403978)"
            ]
          },
          "metadata": {
            "tags": []
          },
          "execution_count": 9
        }
      ]
    },
    {
      "cell_type": "code",
      "metadata": {
        "id": "UB6vPtU5kKFX",
        "colab_type": "code",
        "colab": {
          "base_uri": "https://localhost:8080/",
          "height": 139
        },
        "outputId": "dde02544-8bfe-4e8e-e33e-1873f471527b"
      },
      "source": [
        "y_pred_closed_form = predict_closed_form(X_test_, theta)\n",
        "y_pred_closed_form"
      ],
      "execution_count": 10,
      "outputs": [
        {
          "output_type": "execute_result",
          "data": {
            "text/plain": [
              "array([[1.16878038],\n",
              "       [1.01842189],\n",
              "       [1.27908582],\n",
              "       ...,\n",
              "       [1.40621111],\n",
              "       [1.16369319],\n",
              "       [1.33852787]])"
            ]
          },
          "metadata": {
            "tags": []
          },
          "execution_count": 10
        }
      ]
    },
    {
      "cell_type": "markdown",
      "metadata": {
        "id": "3LWHjJuekKFb",
        "colab_type": "text"
      },
      "source": [
        "### Implement with sklearn library"
      ]
    },
    {
      "cell_type": "code",
      "metadata": {
        "id": "gugs2HeOkKFd",
        "colab_type": "code",
        "colab": {
          "base_uri": "https://localhost:8080/",
          "height": 35
        },
        "outputId": "34d930cd-ede4-4eda-8e74-f7d113c0618a"
      },
      "source": [
        "regressor = LinearRegression()  \n",
        "regressor.fit(X_train, y_train) #training the algorithm"
      ],
      "execution_count": 11,
      "outputs": [
        {
          "output_type": "execute_result",
          "data": {
            "text/plain": [
              "LinearRegression(copy_X=True, fit_intercept=True, n_jobs=None, normalize=False)"
            ]
          },
          "metadata": {
            "tags": []
          },
          "execution_count": 11
        }
      ]
    },
    {
      "cell_type": "code",
      "metadata": {
        "id": "D9RdzfohkKFi",
        "colab_type": "code",
        "colab": {
          "base_uri": "https://localhost:8080/",
          "height": 35
        },
        "outputId": "e4de97f8-dab8-487b-9dfd-e12766e83d38"
      },
      "source": [
        "regressor.coef_, regressor.intercept_"
      ],
      "execution_count": 12,
      "outputs": [
        {
          "output_type": "execute_result",
          "data": {
            "text/plain": [
              "(array([[0.41190818]]), array([1.0130663]))"
            ]
          },
          "metadata": {
            "tags": []
          },
          "execution_count": 12
        }
      ]
    },
    {
      "cell_type": "code",
      "metadata": {
        "id": "o9jnRhzNkKFn",
        "colab_type": "code",
        "colab": {
          "base_uri": "https://localhost:8080/",
          "height": 139
        },
        "outputId": "5c485804-aef8-4853-f7c2-33daf8b9f349"
      },
      "source": [
        "y_pred_regressor = regressor.predict(X_test)\n",
        "y_pred_regressor"
      ],
      "execution_count": 13,
      "outputs": [
        {
          "output_type": "execute_result",
          "data": {
            "text/plain": [
              "array([[1.16878038],\n",
              "       [1.01842189],\n",
              "       [1.27908582],\n",
              "       ...,\n",
              "       [1.40621111],\n",
              "       [1.16369319],\n",
              "       [1.33852787]])"
            ]
          },
          "metadata": {
            "tags": []
          },
          "execution_count": 13
        }
      ]
    },
    {
      "cell_type": "code",
      "metadata": {
        "id": "EMa61_AHkKFr",
        "colab_type": "code",
        "colab": {
          "base_uri": "https://localhost:8080/",
          "height": 69
        },
        "outputId": "28a4b43f-838a-47e6-e1b8-0ac7ed4db89e"
      },
      "source": [
        "print('Mean Absolute Error:', metrics.mean_absolute_error(y_test, y_pred_regressor))  \n",
        "print('Mean Squared Error:', metrics.mean_squared_error(y_test, y_pred_regressor))  \n",
        "print('Root Mean Squared Error:', np.sqrt(metrics.mean_squared_error(y_test, y_pred_regressor)))"
      ],
      "execution_count": 14,
      "outputs": [
        {
          "output_type": "stream",
          "text": [
            "Mean Absolute Error: 0.004563595023893373\n",
            "Mean Squared Error: 2.8112123085725614e-05\n",
            "Root Mean Squared Error: 0.005302086672785123\n"
          ],
          "name": "stdout"
        }
      ]
    },
    {
      "cell_type": "markdown",
      "metadata": {
        "id": "fYeUWG-ckKFv",
        "colab_type": "text"
      },
      "source": [
        "### Do linear regression on your generated data implementing the gradient descent algorithm by yourself."
      ]
    },
    {
      "cell_type": "code",
      "metadata": {
        "id": "OFCxDywUkKFw",
        "colab_type": "code",
        "colab": {}
      },
      "source": [
        "def cost_function(theta0, theta1, X, y):\n",
        "    cost = 0\n",
        "    for i in range(len(X)):\n",
        "        hypoth = theta0 + theta1 * X[i]\n",
        "        cost += (hypoth - y[i]) ** 2\n",
        "    \n",
        "    return cost / (2 * len(X))"
      ],
      "execution_count": 0,
      "outputs": []
    },
    {
      "cell_type": "code",
      "metadata": {
        "id": "-GDu70xNkKF0",
        "colab_type": "code",
        "colab": {}
      },
      "source": [
        "def gradient_step(theta0_current, theta1_current, X, y):\n",
        "    dtheta0, dtheta1 = 0, 0\n",
        "    for i in range(len(X)):\n",
        "        hypoth = theta0_current + theta1_current * X[i]\n",
        "        dtheta0 += (hypoth - y[i])\n",
        "        dtheta1 += (hypoth - y[i]) * X[i]\n",
        "    \n",
        "    m = len(X)\n",
        "    \n",
        "    return [dtheta0 / m, dtheta1 / m]"
      ],
      "execution_count": 0,
      "outputs": []
    },
    {
      "cell_type": "code",
      "metadata": {
        "id": "eOrNS-71kKF4",
        "colab_type": "code",
        "colab": {
          "base_uri": "https://localhost:8080/",
          "height": 35
        },
        "outputId": "63befd02-afab-4c9c-ee66-b1b6e5760367"
      },
      "source": [
        "num_iterations = 1000\n",
        "theta0, theta1 = 0, 0\n",
        "learning_rate = 0.01\n",
        "for i in range(num_iterations):\n",
        "    dtheta0, dtheta1 = gradient_step(theta0, theta1, X_train, y_train)\n",
        "    theta0 -= learning_rate * dtheta0\n",
        "    theta1 -= learning_rate * dtheta1\n",
        "    \n",
        "cost_function(theta0, theta1, X_train, y_train)"
      ],
      "execution_count": 17,
      "outputs": [
        {
          "output_type": "execute_result",
          "data": {
            "text/plain": [
              "array([0.00012212])"
            ]
          },
          "metadata": {
            "tags": []
          },
          "execution_count": 17
        }
      ]
    },
    {
      "cell_type": "code",
      "metadata": {
        "id": "hRefREEzkKF8",
        "colab_type": "code",
        "colab": {
          "base_uri": "https://localhost:8080/",
          "height": 35
        },
        "outputId": "c037fed1-1b2b-4d5a-832c-9fd17371c859"
      },
      "source": [
        "theta1, theta0"
      ],
      "execution_count": 18,
      "outputs": [
        {
          "output_type": "execute_result",
          "data": {
            "text/plain": [
              "(array([0.4628372]), array([0.98605545]))"
            ]
          },
          "metadata": {
            "tags": []
          },
          "execution_count": 18
        }
      ]
    },
    {
      "cell_type": "code",
      "metadata": {
        "id": "38z80F6XkKGA",
        "colab_type": "code",
        "colab": {
          "base_uri": "https://localhost:8080/",
          "height": 139
        },
        "outputId": "2660f0bb-1365-4cc6-97f1-c64abc162ad1"
      },
      "source": [
        "y_pred_gradient = theta0 + theta1 * X_test\n",
        "y_pred_gradient"
      ],
      "execution_count": 19,
      "outputs": [
        {
          "output_type": "execute_result",
          "data": {
            "text/plain": [
              "array([[1.16102228],\n",
              "       [0.99207322],\n",
              "       [1.28496607],\n",
              "       ...,\n",
              "       [1.42780935],\n",
              "       [1.1553061 ],\n",
              "       [1.35175764]])"
            ]
          },
          "metadata": {
            "tags": []
          },
          "execution_count": 19
        }
      ]
    },
    {
      "cell_type": "markdown",
      "metadata": {
        "id": "O5Rqjy52kqzP",
        "colab_type": "text"
      },
      "source": [
        "**Do linear regression on your generated data using tensorflow.**"
      ]
    },
    {
      "cell_type": "code",
      "metadata": {
        "id": "iOfr1N3kkuE_",
        "colab_type": "code",
        "colab": {}
      },
      "source": [
        "import tensorflow as tf\n",
        "tf.set_random_seed(42)"
      ],
      "execution_count": 0,
      "outputs": []
    },
    {
      "cell_type": "code",
      "metadata": {
        "id": "puX4NQjgkuNa",
        "colab_type": "code",
        "colab": {}
      },
      "source": [
        "X = tf.placeholder(\"float\") \n",
        "Y = tf.placeholder(\"float\") "
      ],
      "execution_count": 0,
      "outputs": []
    },
    {
      "cell_type": "code",
      "metadata": {
        "id": "k_a1PjurkuR5",
        "colab_type": "code",
        "colab": {}
      },
      "source": [
        "W = tf.Variable(np.random.randn(), name = \"weights\") \n",
        "B = tf.Variable(np.random.randn(), name = \"bias\")"
      ],
      "execution_count": 0,
      "outputs": []
    },
    {
      "cell_type": "code",
      "metadata": {
        "id": "lzyO5qRxt4a2",
        "colab_type": "code",
        "colab": {
          "base_uri": "https://localhost:8080/",
          "height": 89
        },
        "outputId": "ac6e76d0-ede4-48b6-f762-dc798528e01c"
      },
      "source": [
        "pred = tf.add(tf.multiply(X, W), B)\n",
        "cost = tf.reduce_sum((pred - Y) ** 2)\n",
        "optimizer = tf.train.GradientDescentOptimizer(learning_rate).minimize(cost)"
      ],
      "execution_count": 23,
      "outputs": [
        {
          "output_type": "stream",
          "text": [
            "WARNING:tensorflow:From /usr/local/lib/python3.6/dist-packages/tensorflow/python/ops/math_grad.py:1205: add_dispatch_support.<locals>.wrapper (from tensorflow.python.ops.array_ops) is deprecated and will be removed in a future version.\n",
            "Instructions for updating:\n",
            "Use tf.where in 2.0, which has the same broadcast rule as np.where\n"
          ],
          "name": "stdout"
        }
      ]
    },
    {
      "cell_type": "code",
      "metadata": {
        "id": "cLUsraq5vMsg",
        "colab_type": "code",
        "colab": {}
      },
      "source": [
        "learning_rate = 0.01\n",
        "epochs = 10"
      ],
      "execution_count": 0,
      "outputs": []
    },
    {
      "cell_type": "code",
      "metadata": {
        "id": "jGNmP8DCuE7b",
        "colab_type": "code",
        "colab": {}
      },
      "source": [
        "init = tf.global_variables_initializer()"
      ],
      "execution_count": 0,
      "outputs": []
    },
    {
      "cell_type": "code",
      "metadata": {
        "id": "60T38S4AuFF_",
        "colab_type": "code",
        "colab": {
          "base_uri": "https://localhost:8080/",
          "height": 313
        },
        "outputId": "83d1764d-db47-49fd-c3c7-5f468205fbc2"
      },
      "source": [
        "with tf.Session() as sess:\n",
        "    sess.run(init)\n",
        "    \n",
        "    for epoch in range(epochs):\n",
        "        for x, y in zip(X_train, y_train):\n",
        "            sess.run(optimizer, feed_dict={X: x, Y: y})\n",
        "            \n",
        "        if not epoch % 20:\n",
        "            c = sess.run(cost, feed_dict={X: X_train, Y: y_train})\n",
        "            w = sess.run(W)\n",
        "            b = sess.run(B)\n",
        "            print(f'epoch: {epoch:04d} c={c:.4f} w={w:.4f} b={b:.4f}')\n",
        "            \n",
        "    weight = sess.run(W)\n",
        "    bias = sess.run(B)\n",
        "    plt.title('Original train data vs predicted')\n",
        "    plt.xlabel('Train data')\n",
        "    plt.xlabel('Predicted data')\n",
        "    plt.plot(X_train, y_train, 'o')\n",
        "    plt.plot(X_train, weight * X_train + bias)\n",
        "    plt.show()"
      ],
      "execution_count": 44,
      "outputs": [
        {
          "output_type": "stream",
          "text": [
            "epoch: 0000 c=0.2196 w=0.4121 b=1.0130\n"
          ],
          "name": "stdout"
        },
        {
          "output_type": "display_data",
          "data": {
            "image/png": "[encoded data removed]",
            "text/plain": [
              "<Figure size 432x288 with 1 Axes>"
            ]
          },
          "metadata": {
            "tags": []
          }
        }
      ]
    },
    {
      "cell_type": "code",
      "metadata": {
        "id": "CuIxiudNlbuQ",
        "colab_type": "code",
        "colab": {}
      },
      "source": [
        "learning_rate = 0.01\n",
        "training_epochs = 1000"
      ],
      "execution_count": 0,
      "outputs": []
    },
    {
      "cell_type": "code",
      "metadata": {
        "id": "Mxrd_ItNlbzr",
        "colab_type": "code",
        "colab": {}
      },
      "source": [
        "# Hypothesis \n",
        "y_pred = tf.add(tf.multiply(X, W), b) "
      ],
      "execution_count": 0,
      "outputs": []
    },
    {
      "cell_type": "code",
      "metadata": {
        "id": "ojLC89cnlb4d",
        "colab_type": "code",
        "colab": {
          "base_uri": "https://localhost:8080/",
          "height": 139
        },
        "outputId": "a3684003-53bd-4f15-c161-a637156a2285"
      },
      "source": [
        "y_pred = weight * X_test + bias\n",
        "y_pred"
      ],
      "execution_count": 38,
      "outputs": [
        {
          "output_type": "execute_result",
          "data": {
            "text/plain": [
              "array([[1.16874801],\n",
              "       [1.01830624],\n",
              "       [1.27911454],\n",
              "       ...,\n",
              "       [1.40631024],\n",
              "       [1.163658  ],\n",
              "       [1.33858951]])"
            ]
          },
          "metadata": {
            "tags": []
          },
          "execution_count": 38
        }
      ]
    },
    {
      "cell_type": "code",
      "metadata": {
        "id": "3G8BdAJKCXHC",
        "colab_type": "code",
        "colab": {
          "base_uri": "https://localhost:8080/",
          "height": 295
        },
        "outputId": "021b392e-cb55-47df-db2f-d40d2020ef84"
      },
      "source": [
        "plt.title('Original test data vs predicted')\n",
        "plt.xlabel('Test data')\n",
        "plt.ylabel('Predicted data')\n",
        "plt.plot(X_test, y_test, 'o')\n",
        "plt.plot(X_test, y_pred)\n",
        "plt.show()"
      ],
      "execution_count": 43,
      "outputs": [
        {
          "output_type": "display_data",
          "data": {
            "image/png": "[encoded data removed]",
            "text/plain": [
              "<Figure size 432x288 with 1 Axes>"
            ]
          },
          "metadata": {
            "tags": []
          }
        }
      ]
    },
    {
      "cell_type": "markdown",
      "metadata": {
        "id": "Hqh6fBcwkKGE",
        "colab_type": "text"
      },
      "source": [
        "### Sketch the graphs of all approximations on one graph."
      ]
    },
    {
      "cell_type": "code",
      "metadata": {
        "id": "YWXdNmc8kKGF",
        "colab_type": "code",
        "colab": {}
      },
      "source": [
        "# need to add also tensorflow solution\n",
        "plt.figure(figsize = (15, 10))\n",
        "plt.plot(X_test, y_test, label = 'Generated data')\n",
        "plt.plot(X_test, y_pred_closed_form, label = 'Closed form')\n",
        "plt.plot(X_test, y_pred_regressor, label = 'Sklearn regression')\n",
        "plt.plot(X_test, y_pred_gradient, label = 'Gradient descent')\n",
        "plt.legend()\n",
        "plt.title('All approximations')\n",
        "plt.xlabel('Test data')\n",
        "plt.ylabel('Predicted value')\n",
        "plt.show()"
      ],
      "execution_count": 0,
      "outputs": []
    },
    {
      "cell_type": "markdown",
      "metadata": {
        "id": "sQKpCrrkkKGP",
        "colab_type": "text"
      },
      "source": [
        "### Taylor approximation"
      ]
    },
    {
      "cell_type": "markdown",
      "metadata": {
        "id": "HKzzCbTUkKGR",
        "colab_type": "text"
      },
      "source": [
        "f(x) ~ f(a) + f'(a)*(x - a)"
      ]
    },
    {
      "cell_type": "code",
      "metadata": {
        "id": "FXcS2-iPkKGT",
        "colab_type": "code",
        "colab": {}
      },
      "source": [
        "def derivative(point):\n",
        "    return (1 / 2) * (1 + point)**(-1/2)"
      ],
      "execution_count": 0,
      "outputs": []
    },
    {
      "cell_type": "code",
      "metadata": {
        "id": "Uq6HzFK5kKGb",
        "colab_type": "code",
        "colab": {}
      },
      "source": [
        "def taylor_approximation(point):\n",
        "    return 1 + derivative(point[0])*point[0]"
      ],
      "execution_count": 0,
      "outputs": []
    },
    {
      "cell_type": "code",
      "metadata": {
        "id": "8NdRBgz9kKGg",
        "colab_type": "code",
        "colab": {}
      },
      "source": [
        "y_pred_taylor = list(map(taylor_approximation, X_test))\n",
        "y_pred_taylor = np.array(y_pred_taylor).reshape((len(y_pred_taylor), 1))"
      ],
      "execution_count": 0,
      "outputs": []
    },
    {
      "cell_type": "code",
      "metadata": {
        "id": "rvbgT1ELkKGn",
        "colab_type": "code",
        "colab": {}
      },
      "source": [
        "y_pred_taylor"
      ],
      "execution_count": 0,
      "outputs": []
    },
    {
      "cell_type": "markdown",
      "metadata": {
        "id": "rU0AxBVVkKGv",
        "colab_type": "text"
      },
      "source": [
        "### Compare all solutions with the first degree Taylor approximation of the function"
      ]
    },
    {
      "cell_type": "code",
      "metadata": {
        "id": "Ojf57Am-kKGw",
        "colab_type": "code",
        "colab": {}
      },
      "source": [
        "# closed form solution\n",
        "plt.plot(X_test, y_pred_closed_form, label = 'Closed form')\n",
        "plt.plot(X_test, y_pred_taylor, label = 'Taylor approximation')\n",
        "plt.legend()\n",
        "plt.xlabel('Test data')\n",
        "plt.ylabel('Predicted value')\n",
        "plt.title('Closed form vs Taylor approximation')\n",
        "plt.show()"
      ],
      "execution_count": 0,
      "outputs": []
    },
    {
      "cell_type": "code",
      "metadata": {
        "id": "_eTQEi9VkKGz",
        "colab_type": "code",
        "colab": {}
      },
      "source": [
        "# sklearn solution\n",
        "plt.plot(X_test, y_pred_regressor, label = 'Sklearn regression')\n",
        "plt.plot(X_test, y_pred_taylor, label = 'Taylor approximation')\n",
        "plt.legend()\n",
        "plt.xlabel('Test data')\n",
        "plt.ylabel('Predicted value')\n",
        "plt.title('Sklearn regression vs Taylor approximation')\n",
        "plt.show()"
      ],
      "execution_count": 0,
      "outputs": []
    },
    {
      "cell_type": "code",
      "metadata": {
        "id": "2ud5nPzFkKG3",
        "colab_type": "code",
        "colab": {}
      },
      "source": [
        "# gradient descent solution\n",
        "plt.plot(X_test, y_pred_gradient, label = 'Gradient descent')\n",
        "plt.plot(X_test, y_pred_taylor, label = 'Taylor approximation')\n",
        "plt.legend()\n",
        "plt.xlabel('Test data')\n",
        "plt.ylabel('Predicted value')\n",
        "plt.title('Gradient descent vs Taylor approximation')\n",
        "plt.show()"
      ],
      "execution_count": 0,
      "outputs": []
    },
    {
      "cell_type": "markdown",
      "metadata": {
        "id": "qjipM3SNkKG6",
        "colab_type": "text"
      },
      "source": [
        "### Implement the polynomial regression using linear regression"
      ]
    },
    {
      "cell_type": "code",
      "metadata": {
        "id": "UiMGWJ5KkKG7",
        "colab_type": "code",
        "colab": {}
      },
      "source": [
        "from sklearn.preprocessing import PolynomialFeatures"
      ],
      "execution_count": 0,
      "outputs": []
    },
    {
      "cell_type": "code",
      "metadata": {
        "id": "j4-rX3PQkKG-",
        "colab_type": "code",
        "colab": {}
      },
      "source": [
        "poly_features = PolynomialFeatures(degree=2)"
      ],
      "execution_count": 0,
      "outputs": []
    },
    {
      "cell_type": "code",
      "metadata": {
        "id": "cwXGrwaKkKHD",
        "colab_type": "code",
        "colab": {}
      },
      "source": [
        "X_train_poly = poly_features.fit_transform(X_train)"
      ],
      "execution_count": 0,
      "outputs": []
    },
    {
      "cell_type": "code",
      "metadata": {
        "id": "R5IjQNxPkKHI",
        "colab_type": "code",
        "colab": {}
      },
      "source": [
        "poly_model = LinearRegression()\n",
        "poly_model.fit(X_train_poly, y_train)"
      ],
      "execution_count": 0,
      "outputs": []
    },
    {
      "cell_type": "code",
      "metadata": {
        "id": "lWymdPE1kKHN",
        "colab_type": "code",
        "colab": {}
      },
      "source": [
        "y_test_predict = poly_model.predict(poly_features.fit_transform(X_test))"
      ],
      "execution_count": 0,
      "outputs": []
    },
    {
      "cell_type": "code",
      "metadata": {
        "id": "wLCSg4wnkKHU",
        "colab_type": "code",
        "colab": {}
      },
      "source": [
        "poly_features"
      ],
      "execution_count": 0,
      "outputs": []
    },
    {
      "cell_type": "code",
      "metadata": {
        "id": "OZzngZ5NkKHY",
        "colab_type": "code",
        "colab": {}
      },
      "source": [
        "plt.plot(X_test, y_test, label = 'Actual data')\n",
        "plt.plot(X_test, y_test_predict, label = 'Polynomial regression')\n",
        "plt.legend()\n",
        "plt.xlabel('Test data')\n",
        "plt.ylabel('Predicted value')\n",
        "plt.title('Polynomial regression')\n",
        "plt.show()"
      ],
      "execution_count": 0,
      "outputs": []
    }
  ]
}