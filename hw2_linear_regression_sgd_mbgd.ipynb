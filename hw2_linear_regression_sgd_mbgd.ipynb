{
 "cells": [
  {
   "cell_type": "markdown",
   "metadata": {
    "colab_type": "text",
    "id": "l_hDQ0Fo_Iao"
   },
   "source": [
    "### Generate N = 10000 random numbers from [0, 1]"
   ]
  },
  {
   "cell_type": "code",
   "execution_count": 1,
   "metadata": {
    "colab": {},
    "colab_type": "code",
    "id": "bZp3AvIw_D_J"
   },
   "outputs": [],
   "source": [
    "import numpy as np\n",
    "from sklearn.model_selection import train_test_split \n",
    "from sklearn.linear_model import LinearRegression\n",
    "from sklearn import metrics\n",
    "import matplotlib.pyplot as plt"
   ]
  },
  {
   "cell_type": "code",
   "execution_count": 2,
   "metadata": {
    "colab": {},
    "colab_type": "code",
    "id": "2xTDD4yn7bVL"
   },
   "outputs": [],
   "source": [
    "np.random.seed(seed = 42)\n",
    "X = (np.random.random(10000)).reshape(10000, 1)\n",
    "y = np.sqrt(1 + X)"
   ]
  },
  {
   "cell_type": "code",
   "execution_count": 3,
   "metadata": {
    "colab": {},
    "colab_type": "code",
    "id": "0-REom2y7iVB"
   },
   "outputs": [],
   "source": [
    "X_train, X_test, y_train, y_test = train_test_split(X, y, test_size=0.2, random_state=0)"
   ]
  },
  {
   "cell_type": "code",
   "execution_count": 4,
   "metadata": {
    "colab": {
     "base_uri": "https://localhost:8080/",
     "height": 35
    },
    "colab_type": "code",
    "executionInfo": {
     "elapsed": 596,
     "status": "ok",
     "timestamp": 1569876496225,
     "user": {
      "displayName": "Armine Hayrapetyan",
      "photoUrl": "https://lh3.googleusercontent.com/a-/AAuE7mAOrh55dhq4X-hM1ErFijFHDu7VA-MTK1Hu_VGyBg=s64",
      "userId": "14561772578822161657"
     },
     "user_tz": -180
    },
    "id": "vYTB3Kqr7jJW",
    "outputId": "588eb82a-d933-4665-8133-1c4387b61b5e"
   },
   "outputs": [
    {
     "data": {
      "text/plain": [
       "8000"
      ]
     },
     "execution_count": 4,
     "metadata": {},
     "output_type": "execute_result"
    }
   ],
   "source": [
    "len(X_train)"
   ]
  },
  {
   "cell_type": "code",
   "execution_count": 5,
   "metadata": {
    "colab": {
     "base_uri": "https://localhost:8080/",
     "height": 145
    },
    "colab_type": "code",
    "executionInfo": {
     "elapsed": 624,
     "status": "ok",
     "timestamp": 1569876499780,
     "user": {
      "displayName": "Armine Hayrapetyan",
      "photoUrl": "https://lh3.googleusercontent.com/a-/AAuE7mAOrh55dhq4X-hM1ErFijFHDu7VA-MTK1Hu_VGyBg=s64",
      "userId": "14561772578822161657"
     },
     "user_tz": -180
    },
    "id": "Tj0P5anL7kyj",
    "outputId": "389f3ab2-eae4-4b3b-c417-e84c11058fba"
   },
   "outputs": [
    {
     "data": {
      "text/plain": [
       "array([[0.42380819],\n",
       "       [0.33616534],\n",
       "       [0.86529576],\n",
       "       ...,\n",
       "       [0.79275811],\n",
       "       [0.40680929],\n",
       "       [0.05784445]])"
      ]
     },
     "execution_count": 5,
     "metadata": {},
     "output_type": "execute_result"
    }
   ],
   "source": [
    "X_train"
   ]
  },
  {
   "cell_type": "code",
   "execution_count": 6,
   "metadata": {
    "colab": {
     "base_uri": "https://localhost:8080/",
     "height": 145
    },
    "colab_type": "code",
    "executionInfo": {
     "elapsed": 840,
     "status": "ok",
     "timestamp": 1569876514085,
     "user": {
      "displayName": "Armine Hayrapetyan",
      "photoUrl": "https://lh3.googleusercontent.com/a-/AAuE7mAOrh55dhq4X-hM1ErFijFHDu7VA-MTK1Hu_VGyBg=s64",
      "userId": "14561772578822161657"
     },
     "user_tz": -180
    },
    "id": "pKk50ZjC7lpy",
    "outputId": "d36c5e90-4471-41c6-c617-c1f729c54f23"
   },
   "outputs": [
    {
     "data": {
      "text/plain": [
       "array([[1.19323434],\n",
       "       [1.15592618],\n",
       "       [1.36575831],\n",
       "       ...,\n",
       "       [1.33893917],\n",
       "       [1.18608992],\n",
       "       [1.02851565]])"
      ]
     },
     "execution_count": 6,
     "metadata": {},
     "output_type": "execute_result"
    }
   ],
   "source": [
    "y_train"
   ]
  },
  {
   "cell_type": "code",
   "execution_count": 7,
   "metadata": {
    "colab": {},
    "colab_type": "code",
    "id": "758ZPmL57pF4"
   },
   "outputs": [],
   "source": [
    "ones = np.ones(shape = (len(X_train), 1))\n",
    "X_train_ = np.append(ones, X_train, axis = 1)\n",
    "ones = np.ones(shape = (len(X_test), 1))\n",
    "X_test_ = np.append(ones, X_test, axis = 1)"
   ]
  },
  {
   "cell_type": "code",
   "execution_count": 8,
   "metadata": {
    "colab": {
     "base_uri": "https://localhost:8080/",
     "height": 145
    },
    "colab_type": "code",
    "executionInfo": {
     "elapsed": 588,
     "status": "ok",
     "timestamp": 1569876533094,
     "user": {
      "displayName": "Armine Hayrapetyan",
      "photoUrl": "https://lh3.googleusercontent.com/a-/AAuE7mAOrh55dhq4X-hM1ErFijFHDu7VA-MTK1Hu_VGyBg=s64",
      "userId": "14561772578822161657"
     },
     "user_tz": -180
    },
    "id": "SpdIh-ea7qou",
    "outputId": "20a43184-8f80-4a6a-ba22-56838ffc3c93"
   },
   "outputs": [
    {
     "data": {
      "text/plain": [
       "array([[1.        , 0.42380819],\n",
       "       [1.        , 0.33616534],\n",
       "       [1.        , 0.86529576],\n",
       "       ...,\n",
       "       [1.        , 0.79275811],\n",
       "       [1.        , 0.40680929],\n",
       "       [1.        , 0.05784445]])"
      ]
     },
     "execution_count": 8,
     "metadata": {},
     "output_type": "execute_result"
    }
   ],
   "source": [
    "X_train_"
   ]
  },
  {
   "cell_type": "code",
   "execution_count": 9,
   "metadata": {
    "colab": {},
    "colab_type": "code",
    "id": "wbzdSSsE7tyk"
   },
   "outputs": [],
   "source": [
    "# THIS NEED FOR FURTHER SHUFFLING\n",
    "train_data = np.column_stack((X_train_, y_train))"
   ]
  },
  {
   "cell_type": "code",
   "execution_count": 10,
   "metadata": {
    "colab": {
     "base_uri": "https://localhost:8080/",
     "height": 35
    },
    "colab_type": "code",
    "executionInfo": {
     "elapsed": 581,
     "status": "ok",
     "timestamp": 1569876554304,
     "user": {
      "displayName": "Armine Hayrapetyan",
      "photoUrl": "https://lh3.googleusercontent.com/a-/AAuE7mAOrh55dhq4X-hM1ErFijFHDu7VA-MTK1Hu_VGyBg=s64",
      "userId": "14561772578822161657"
     },
     "user_tz": -180
    },
    "id": "jYYjbDKx7w0p",
    "outputId": "7728bbaf-aa75-4c6a-801b-53abbc22036e"
   },
   "outputs": [
    {
     "data": {
      "text/plain": [
       "(8000, 3)"
      ]
     },
     "execution_count": 10,
     "metadata": {},
     "output_type": "execute_result"
    }
   ],
   "source": [
    "train_data.shape"
   ]
  },
  {
   "cell_type": "markdown",
   "metadata": {
    "colab_type": "text",
    "id": "XGHdo5jg73hh"
   },
   "source": [
    "### Do linear regression on your generated data using stochastic gradient descent"
   ]
  },
  {
   "cell_type": "code",
   "execution_count": 11,
   "metadata": {
    "colab": {},
    "colab_type": "code",
    "id": "6r6asrvE74Ph"
   },
   "outputs": [],
   "source": [
    "def loss_matrix(x, y, theta):\n",
    "    return (np.dot(x, theta) - y)"
   ]
  },
  {
   "cell_type": "code",
   "execution_count": 12,
   "metadata": {
    "colab": {},
    "colab_type": "code",
    "id": "hD8NOYlq78Tz"
   },
   "outputs": [],
   "source": [
    "def mse(loss_arr):\n",
    "#     print(loss_arr ** 2)\n",
    "    return (1 / (2 * len(loss_arr))) * sum(loss_arr ** 2)"
   ]
  },
  {
   "cell_type": "code",
   "execution_count": 51,
   "metadata": {
    "colab": {},
    "colab_type": "code",
    "id": "-rquEuV_79zL"
   },
   "outputs": [],
   "source": [
    "def sgd(num_iterations, train_data):\n",
    "    learning_rate = 0.01\n",
    "    theta = np.squeeze(np.random.random((2, 1)))\n",
    "    loss_history = []\n",
    "    theta_history = []\n",
    "    for _ in range(num_iterations):\n",
    "        np.random.shuffle(train_data)\n",
    "        for i in range(len(train_data)):\n",
    "            X, y = train_data[i, 1], train_data[i, 2]\n",
    "            loss_val = loss_matrix([1, X], y, theta)\n",
    "            theta = theta - learning_rate  * loss_val * X\n",
    "            \n",
    "        loss_m = loss_matrix(train_data[:, :2], train_data[:, 2], theta)\n",
    "        mse_loss_m = mse(loss_m)\n",
    "        \n",
    "        if mse_loss_m < 0.000005:\n",
    "            return theta\n",
    "        \n",
    "        loss_history.append(mse(loss_m))\n",
    "        theta_history.append(theta)\n",
    "    \n",
    "    \n",
    "   # print(loss_history)\n",
    "    print(loss_history[np.argmin(loss_history)])\n",
    "    return theta_history[np.argmin(loss_history)]"
   ]
  },
  {
   "cell_type": "code",
   "execution_count": 52,
   "metadata": {
    "colab": {},
    "colab_type": "code",
    "id": "n-tDD8nc7_LL"
   },
   "outputs": [
    {
     "name": "stdout",
     "output_type": "stream",
     "text": [
      "0.0003736253187765269\n"
     ]
    }
   ],
   "source": [
    "theta_sgd = sgd(20, train_data)"
   ]
  },
  {
   "cell_type": "code",
   "execution_count": 53,
   "metadata": {
    "colab": {
     "base_uri": "https://localhost:8080/",
     "height": 35
    },
    "colab_type": "code",
    "executionInfo": {
     "elapsed": 665,
     "status": "ok",
     "timestamp": 1569878491222,
     "user": {
      "displayName": "Armine Hayrapetyan",
      "photoUrl": "https://lh3.googleusercontent.com/a-/AAuE7mAOrh55dhq4X-hM1ErFijFHDu7VA-MTK1Hu_VGyBg=s64",
      "userId": "14561772578822161657"
     },
     "user_tz": -180
    },
    "id": "52kGLsfJ8Qaj",
    "outputId": "cc774e3f-a391-4aa3-eb03-df3b87227eac"
   },
   "outputs": [
    {
     "data": {
      "text/plain": [
       "array([0.95964853, 0.4958126 ])"
      ]
     },
     "execution_count": 53,
     "metadata": {},
     "output_type": "execute_result"
    }
   ],
   "source": [
    "theta_sgd"
   ]
  },
  {
   "cell_type": "code",
   "execution_count": 54,
   "metadata": {
    "colab": {
     "base_uri": "https://localhost:8080/",
     "height": 35
    },
    "colab_type": "code",
    "executionInfo": {
     "elapsed": 614,
     "status": "ok",
     "timestamp": 1569876724378,
     "user": {
      "displayName": "Armine Hayrapetyan",
      "photoUrl": "https://lh3.googleusercontent.com/a-/AAuE7mAOrh55dhq4X-hM1ErFijFHDu7VA-MTK1Hu_VGyBg=s64",
      "userId": "14561772578822161657"
     },
     "user_tz": -180
    },
    "id": "yEQ0Zx1P8Y5e",
    "outputId": "343ebe13-72b0-462c-eda0-eed75d00cabd"
   },
   "outputs": [
    {
     "data": {
      "text/plain": [
       "0.00037986220205161986"
      ]
     },
     "execution_count": 54,
     "metadata": {},
     "output_type": "execute_result"
    }
   ],
   "source": [
    "test_data = np.column_stack((X_test_, y_test))\n",
    "loss_m = loss_matrix(test_data[:, :2], test_data[:, 2], theta_sgd)\n",
    "mse_loss_m = mse(loss_m)\n",
    "mse_loss_m"
   ]
  },
  {
   "cell_type": "markdown",
   "metadata": {
    "colab_type": "text",
    "id": "k_-TTfOd8fJu"
   },
   "source": [
    "### Do linear regression on your generated data using mini-bacth gradient descent"
   ]
  },
  {
   "cell_type": "code",
   "execution_count": 80,
   "metadata": {
    "colab": {},
    "colab_type": "code",
    "id": "aLlvWlty8ceN"
   },
   "outputs": [],
   "source": [
    "import math\n",
    "def mbgd(num_iterations, train_data):\n",
    "    learning_rate = 0.01\n",
    "    theta = np.squeeze(np.random.random((2, 1)))\n",
    "    batch_size = 15\n",
    "    \n",
    "    supremum = math.ceil(len(train_data) / batch_size)\n",
    "    \n",
    "    loss_history = []\n",
    "    theta_history = []\n",
    "    \n",
    "    for _ in range(num_iterations):\n",
    "        np.random.shuffle(train_data)\n",
    "        \n",
    "        for i in range(supremum):\n",
    "            \n",
    "            inner_loss = 0\n",
    "            for k in range((i - 1) * batch_size + 1, i * batch_size + 1):\n",
    "                X, y = train_data[k, 1], train_data[k, 2]\n",
    "                #print('test', (loss_matrix([1, X], y, theta) * X))\n",
    "                inner_loss += (loss_matrix([1, X], y, theta) * X)\n",
    "         \n",
    "            theta = theta - (learning_rate / batch_size) * inner_loss\n",
    "        \n",
    "        loss_m = loss_matrix(train_data[:, :2], train_data[:, 2], theta)\n",
    "        mse_loss_m = mse(loss_m)\n",
    "        \n",
    "        if mse_loss_m < 0.0000005:\n",
    "            return theta\n",
    "        \n",
    "        loss_history.append(mse(loss_m))\n",
    "        theta_history.append(theta)\n",
    "    \n",
    "    \n",
    "    #print(loss_history)\n",
    "    print(loss_history[np.argmin(loss_history)])\n",
    "    return theta_history[np.argmin(loss_history)]"
   ]
  },
  {
   "cell_type": "code",
   "execution_count": 83,
   "metadata": {
    "colab": {},
    "colab_type": "code",
    "id": "vhFV2uu58jOg"
   },
   "outputs": [
    {
     "name": "stdout",
     "output_type": "stream",
     "text": [
      "9.865848226542642e-05\n"
     ]
    }
   ],
   "source": [
    "theta_mbgd = mbgd(20, train_data)"
   ]
  },
  {
   "cell_type": "code",
   "execution_count": 84,
   "metadata": {
    "colab": {
     "base_uri": "https://localhost:8080/",
     "height": 35
    },
    "colab_type": "code",
    "executionInfo": {
     "elapsed": 726,
     "status": "ok",
     "timestamp": 1569878183814,
     "user": {
      "displayName": "Armine Hayrapetyan",
      "photoUrl": "https://lh3.googleusercontent.com/a-/AAuE7mAOrh55dhq4X-hM1ErFijFHDu7VA-MTK1Hu_VGyBg=s64",
      "userId": "14561772578822161657"
     },
     "user_tz": -180
    },
    "id": "4GPP20je8lnn",
    "outputId": "786f1c03-ded3-4de3-805d-b8709f783560"
   },
   "outputs": [
    {
     "data": {
      "text/plain": [
       "9.847963111747159e-05"
      ]
     },
     "execution_count": 84,
     "metadata": {},
     "output_type": "execute_result"
    }
   ],
   "source": [
    "test_data = np.column_stack((X_test_, y_test))\n",
    "loss_m = loss_matrix(test_data[:, :2], test_data[:, 2], theta_mbgd)\n",
    "mse_loss_m = mse(loss_m)\n",
    "mse_loss_m"
   ]
  },
  {
   "cell_type": "markdown",
   "metadata": {
    "colab_type": "text",
    "id": "Tq3Y9FI38yx0"
   },
   "source": [
    "### Do linear regression on your generated data using tensorflow."
   ]
  },
  {
   "cell_type": "code",
   "execution_count": 117,
   "metadata": {
    "colab": {},
    "colab_type": "code",
    "id": "yk5yp6fS8rp6"
   },
   "outputs": [],
   "source": [
    "import tensorflow as tf\n",
    "tf.set_random_seed(42)"
   ]
  },
  {
   "cell_type": "code",
   "execution_count": 118,
   "metadata": {
    "colab": {},
    "colab_type": "code",
    "id": "x9xf6i0R82JS"
   },
   "outputs": [],
   "source": [
    "X = tf.placeholder(\"float\") \n",
    "Y = tf.placeholder(\"float\") "
   ]
  },
  {
   "cell_type": "code",
   "execution_count": 119,
   "metadata": {
    "colab": {},
    "colab_type": "code",
    "id": "bpfoytYO83ng"
   },
   "outputs": [],
   "source": [
    "W = tf.Variable(np.random.randn(), name = \"weights\") \n",
    "B = tf.Variable(np.random.randn(), name = \"bias\")"
   ]
  },
  {
   "cell_type": "code",
   "execution_count": 120,
   "metadata": {
    "colab": {
     "base_uri": "https://localhost:8080/",
     "height": 92
    },
    "colab_type": "code",
    "executionInfo": {
     "elapsed": 1017,
     "status": "ok",
     "timestamp": 1569876883319,
     "user": {
      "displayName": "Armine Hayrapetyan",
      "photoUrl": "https://lh3.googleusercontent.com/a-/AAuE7mAOrh55dhq4X-hM1ErFijFHDu7VA-MTK1Hu_VGyBg=s64",
      "userId": "14561772578822161657"
     },
     "user_tz": -180
    },
    "id": "AssTwifr85N1",
    "outputId": "8151828e-9cff-4af7-fb27-4c6848966e9a"
   },
   "outputs": [],
   "source": [
    "pred = tf.add(tf.multiply(X, W), B)\n",
    "cost = tf.reduce_sum((pred - Y) ** 2)\n",
    "learning_rate = 0.001\n",
    "optimizer = tf.train.GradientDescentOptimizer(learning_rate).minimize(cost)"
   ]
  },
  {
   "cell_type": "code",
   "execution_count": 121,
   "metadata": {
    "colab": {},
    "colab_type": "code",
    "id": "gPhKGHNP87oJ"
   },
   "outputs": [],
   "source": [
    "epochs = 10"
   ]
  },
  {
   "cell_type": "code",
   "execution_count": 122,
   "metadata": {
    "colab": {},
    "colab_type": "code",
    "id": "EFOvQYgK9Lxs"
   },
   "outputs": [],
   "source": [
    "init = tf.global_variables_initializer()"
   ]
  },
  {
   "cell_type": "code",
   "execution_count": 123,
   "metadata": {
    "colab": {
     "base_uri": "https://localhost:8080/",
     "height": 313
    },
    "colab_type": "code",
    "executionInfo": {
     "elapsed": 28165,
     "status": "ok",
     "timestamp": 1569877205232,
     "user": {
      "displayName": "Armine Hayrapetyan",
      "photoUrl": "https://lh3.googleusercontent.com/a-/AAuE7mAOrh55dhq4X-hM1ErFijFHDu7VA-MTK1Hu_VGyBg=s64",
      "userId": "14561772578822161657"
     },
     "user_tz": -180
    },
    "id": "IRWTfvHY9Nfd",
    "outputId": "741d7ec3-03fb-41cc-e6e2-0778f99a301c"
   },
   "outputs": [
    {
     "data": {
      "image/png": "[encoded data removed]",
      "text/plain": [
       "<Figure size 432x288 with 1 Axes>"
      ]
     },
     "metadata": {
      "needs_background": "light"
     },
     "output_type": "display_data"
    }
   ],
   "source": [
    "with tf.Session() as sess:\n",
    "    sess.run(init)\n",
    "    \n",
    "    for epoch in range(epochs):\n",
    "        for x, y in zip(X_train, y_train):\n",
    "            sess.run(optimizer, feed_dict={X: x, Y: y})\n",
    "            \n",
    "        if not epoch % 20:\n",
    "            c = sess.run(cost, feed_dict={X: X_train, Y: y_train})\n",
    "            w = sess.run(W)\n",
    "            b = sess.run(B)\n",
    "            #print(f'epoch: {epoch:04d} c={c:.4f} w={w:.4f} b={b:.4f}')\n",
    "            \n",
    "    weight = sess.run(W)\n",
    "    bias = sess.run(B)\n",
    "    plt.title('Original train data vs predicted')\n",
    "    plt.xlabel('X')\n",
    "    plt.ylabel('Y')\n",
    "    plt.plot(X_train, y_train, 'o', label = 'Train data')\n",
    "    plt.plot(X_train, weight * X_train + bias, label = 'Predicted data')\n",
    "    plt.legend()\n",
    "    plt.show()"
   ]
  },
  {
   "cell_type": "code",
   "execution_count": 124,
   "metadata": {
    "colab": {
     "base_uri": "https://localhost:8080/",
     "height": 145
    },
    "colab_type": "code",
    "executionInfo": {
     "elapsed": 656,
     "status": "ok",
     "timestamp": 1569876983187,
     "user": {
      "displayName": "Armine Hayrapetyan",
      "photoUrl": "https://lh3.googleusercontent.com/a-/AAuE7mAOrh55dhq4X-hM1ErFijFHDu7VA-MTK1Hu_VGyBg=s64",
      "userId": "14561772578822161657"
     },
     "user_tz": -180
    },
    "id": "QhaEJj9N9P4S",
    "outputId": "5bc301bc-3cde-4ade-9b61-1cd467858003"
   },
   "outputs": [
    {
     "data": {
      "text/plain": [
       "array([[1.16899375],\n",
       "       [1.01860891],\n",
       "       [1.27931852],\n",
       "       ...,\n",
       "       [1.40646608],\n",
       "       [1.16390566],\n",
       "       [1.33877099]])"
      ]
     },
     "execution_count": 124,
     "metadata": {},
     "output_type": "execute_result"
    }
   ],
   "source": [
    "y_pred = weight * X_test + bias\n",
    "y_pred"
   ]
  },
  {
   "cell_type": "code",
   "execution_count": 125,
   "metadata": {
    "colab": {
     "base_uri": "https://localhost:8080/",
     "height": 295
    },
    "colab_type": "code",
    "executionInfo": {
     "elapsed": 996,
     "status": "ok",
     "timestamp": 1569877210612,
     "user": {
      "displayName": "Armine Hayrapetyan",
      "photoUrl": "https://lh3.googleusercontent.com/a-/AAuE7mAOrh55dhq4X-hM1ErFijFHDu7VA-MTK1Hu_VGyBg=s64",
      "userId": "14561772578822161657"
     },
     "user_tz": -180
    },
    "id": "_y4vace49bpq",
    "outputId": "e6a0efd0-bfd5-4b0f-b37b-4ad929ae2762"
   },
   "outputs": [
    {
     "data": {
      "image/png": "[encoded data removed]",
      "text/plain": [
       "<Figure size 432x288 with 1 Axes>"
      ]
     },
     "metadata": {
      "needs_background": "light"
     },
     "output_type": "display_data"
    }
   ],
   "source": [
    "plt.title('Original test data vs predicted')\n",
    "plt.xlabel('X')\n",
    "plt.ylabel('Y')\n",
    "plt.plot(X_test, y_test, label = 'Test data')\n",
    "plt.plot(X_test, y_pred, label = 'Predicted data')\n",
    "plt.legend()\n",
    "plt.show()"
   ]
  },
  {
   "cell_type": "markdown",
   "metadata": {
    "colab_type": "text",
    "id": "znwXP3fw_Wha"
   },
   "source": [
    "### Sketch the graphs of all approximations on one graph."
   ]
  },
  {
   "cell_type": "code",
   "execution_count": 126,
   "metadata": {
    "colab": {},
    "colab_type": "code",
    "id": "JfuudJeO_yby"
   },
   "outputs": [],
   "source": [
    "y_pred_sgd = theta_sgd[0] + theta_sgd[1] * X_test\n",
    "y_pred_mbgd = theta_mbgd[0] + theta_mbgd[1] * X_test\n",
    "y_pred_tf = y_pred"
   ]
  },
  {
   "cell_type": "code",
   "execution_count": 127,
   "metadata": {
    "colab": {
     "base_uri": "https://localhost:8080/",
     "height": 35
    },
    "colab_type": "code",
    "executionInfo": {
     "elapsed": 550,
     "status": "ok",
     "timestamp": 1569878545649,
     "user": {
      "displayName": "Armine Hayrapetyan",
      "photoUrl": "https://lh3.googleusercontent.com/a-/AAuE7mAOrh55dhq4X-hM1ErFijFHDu7VA-MTK1Hu_VGyBg=s64",
      "userId": "14561772578822161657"
     },
     "user_tz": -180
    },
    "id": "JSkwXdaMA7iJ",
    "outputId": "dd239c1d-ba95-47cd-c08c-f293069300fd"
   },
   "outputs": [
    {
     "data": {
      "text/plain": [
       "(0.9596485332660645, 0.4958125965197618)"
      ]
     },
     "execution_count": 127,
     "metadata": {},
     "output_type": "execute_result"
    }
   ],
   "source": [
    "theta_sgd[0], theta_sgd[1]"
   ]
  },
  {
   "cell_type": "code",
   "execution_count": 128,
   "metadata": {
    "colab": {
     "base_uri": "https://localhost:8080/",
     "height": 35
    },
    "colab_type": "code",
    "executionInfo": {
     "elapsed": 679,
     "status": "ok",
     "timestamp": 1569878201309,
     "user": {
      "displayName": "Armine Hayrapetyan",
      "photoUrl": "https://lh3.googleusercontent.com/a-/AAuE7mAOrh55dhq4X-hM1ErFijFHDu7VA-MTK1Hu_VGyBg=s64",
      "userId": "14561772578822161657"
     },
     "user_tz": -180
    },
    "id": "b8hLhhq0BBCi",
    "outputId": "13f5d7fc-239c-46d3-ccd7-438462245a9d"
   },
   "outputs": [
    {
     "data": {
      "text/plain": [
       "(0.98706188911037, 0.4517025465518424)"
      ]
     },
     "execution_count": 128,
     "metadata": {},
     "output_type": "execute_result"
    }
   ],
   "source": [
    "theta_mbgd[0], theta_mbgd[1]"
   ]
  },
  {
   "cell_type": "code",
   "execution_count": 129,
   "metadata": {
    "colab": {
     "base_uri": "https://localhost:8080/",
     "height": 35
    },
    "colab_type": "code",
    "executionInfo": {
     "elapsed": 697,
     "status": "ok",
     "timestamp": 1569877952693,
     "user": {
      "displayName": "Armine Hayrapetyan",
      "photoUrl": "https://lh3.googleusercontent.com/a-/AAuE7mAOrh55dhq4X-hM1ErFijFHDu7VA-MTK1Hu_VGyBg=s64",
      "userId": "14561772578822161657"
     },
     "user_tz": -180
    },
    "id": "7otqBGpFBEFe",
    "outputId": "0d8098c5-96f7-4fb5-fe4d-894fb462969d"
   },
   "outputs": [
    {
     "data": {
      "text/plain": [
       "(1.0132524, 0.41198036)"
      ]
     },
     "execution_count": 129,
     "metadata": {},
     "output_type": "execute_result"
    }
   ],
   "source": [
    "bias, weight"
   ]
  },
  {
   "cell_type": "code",
   "execution_count": 130,
   "metadata": {
    "colab": {
     "base_uri": "https://localhost:8080/",
     "height": 621
    },
    "colab_type": "code",
    "executionInfo": {
     "elapsed": 1522,
     "status": "ok",
     "timestamp": 1569878552006,
     "user": {
      "displayName": "Armine Hayrapetyan",
      "photoUrl": "https://lh3.googleusercontent.com/a-/AAuE7mAOrh55dhq4X-hM1ErFijFHDu7VA-MTK1Hu_VGyBg=s64",
      "userId": "14561772578822161657"
     },
     "user_tz": -180
    },
    "id": "E9tKqJOT9fIP",
    "outputId": "b0baf096-af5e-401f-e31a-9219419aa2e1"
   },
   "outputs": [
    {
     "data": {
      "image/png": "[encoded data removed]",
      "text/plain": [
       "<Figure size 1080x720 with 1 Axes>"
      ]
     },
     "metadata": {
      "needs_background": "light"
     },
     "output_type": "display_data"
    }
   ],
   "source": [
    "# need to add also tensorflow solution\n",
    "plt.figure(figsize = (15, 10))\n",
    "plt.plot(X_test, y_test, label = 'Generated data')\n",
    "plt.plot(X_test, y_pred_sgd, label = 'Stochastic Gradient prediction')\n",
    "plt.plot(X_test, y_pred_mbgd, label = 'Mini-Batch Gradient prediction')\n",
    "plt.plot(X_test, y_pred_tf, label = 'Tensorflow prediction')\n",
    "plt.legend()\n",
    "plt.title('All approximations')\n",
    "plt.xlabel('Test data')\n",
    "plt.ylabel('Predicted value')\n",
    "plt.show()"
   ]
  },
  {
   "cell_type": "markdown",
   "metadata": {
    "colab_type": "text",
    "id": "VPtzNgfNEwXm"
   },
   "source": [
    "### Taylor approximation"
   ]
  },
  {
   "cell_type": "markdown",
   "metadata": {
    "colab_type": "text",
    "id": "XH74OksnE11x"
   },
   "source": [
    "f(x) ~ f(a) + f'(a)*(x - a)"
   ]
  },
  {
   "cell_type": "code",
   "execution_count": 131,
   "metadata": {
    "colab": {},
    "colab_type": "code",
    "id": "AetTP59VAXfw"
   },
   "outputs": [],
   "source": [
    "def derivative(point):\n",
    "    return (1 / 2) * (1 + point)**(-1/2)"
   ]
  },
  {
   "cell_type": "code",
   "execution_count": 132,
   "metadata": {
    "colab": {},
    "colab_type": "code",
    "id": "YuufWq6lE4SK"
   },
   "outputs": [],
   "source": [
    "def taylor_approximation(point):\n",
    "    return 1 + derivative(point[0])*point[0]"
   ]
  },
  {
   "cell_type": "code",
   "execution_count": 133,
   "metadata": {
    "colab": {},
    "colab_type": "code",
    "id": "-TTdZghgE5lp"
   },
   "outputs": [],
   "source": [
    "y_pred_taylor = list(map(taylor_approximation, X_test))\n",
    "y_pred_taylor = np.array(y_pred_taylor).reshape((len(y_pred_taylor), 1))"
   ]
  },
  {
   "cell_type": "code",
   "execution_count": 134,
   "metadata": {
    "colab": {
     "base_uri": "https://localhost:8080/",
     "height": 145
    },
    "colab_type": "code",
    "executionInfo": {
     "elapsed": 577,
     "status": "ok",
     "timestamp": 1569878953509,
     "user": {
      "displayName": "Armine Hayrapetyan",
      "photoUrl": "https://lh3.googleusercontent.com/a-/AAuE7mAOrh55dhq4X-hM1ErFijFHDu7VA-MTK1Hu_VGyBg=s64",
      "userId": "14561772578822161657"
     },
     "user_tz": -180
    },
    "id": "moystyWcE7EY",
    "outputId": "93b1511f-fc75-42d1-b993-326d7e3e6566"
   },
   "outputs": [
    {
     "data": {
      "text/plain": [
       "array([[1.16101561],\n",
       "       [1.00645911],\n",
       "       [1.25170487],\n",
       "       ...,\n",
       "       [1.34135802],\n",
       "       [1.1564579 ],\n",
       "       [1.29527512]])"
      ]
     },
     "execution_count": 134,
     "metadata": {},
     "output_type": "execute_result"
    }
   ],
   "source": [
    "y_pred_taylor"
   ]
  },
  {
   "cell_type": "markdown",
   "metadata": {
    "colab_type": "text",
    "id": "Kih94qy7FAEf"
   },
   "source": [
    "### Compare all solutions with the first degree Taylor approximation of the function"
   ]
  },
  {
   "cell_type": "code",
   "execution_count": 135,
   "metadata": {
    "colab": {
     "base_uri": "https://localhost:8080/",
     "height": 295
    },
    "colab_type": "code",
    "executionInfo": {
     "elapsed": 1047,
     "status": "ok",
     "timestamp": 1569879026795,
     "user": {
      "displayName": "Armine Hayrapetyan",
      "photoUrl": "https://lh3.googleusercontent.com/a-/AAuE7mAOrh55dhq4X-hM1ErFijFHDu7VA-MTK1Hu_VGyBg=s64",
      "userId": "14561772578822161657"
     },
     "user_tz": -180
    },
    "id": "Stw5ZnQdE8tk",
    "outputId": "0831d4a9-97dd-47ad-a651-c3850f1ca363"
   },
   "outputs": [
    {
     "data": {
      "image/png": "[encoded data removed]",
      "text/plain": [
       "<Figure size 432x288 with 1 Axes>"
      ]
     },
     "metadata": {
      "needs_background": "light"
     },
     "output_type": "display_data"
    }
   ],
   "source": [
    "# stochastic gradient solution\n",
    "plt.plot(X_test, y_pred_sgd, label = 'Stochastic Gradient')\n",
    "plt.plot(X_test, y_pred_taylor, label = 'Taylor approximation')\n",
    "plt.legend()\n",
    "plt.xlabel('Test data')\n",
    "plt.ylabel('Predicted value')\n",
    "plt.title('Stochastic Gradient vs Taylor approximation')\n",
    "plt.show()"
   ]
  },
  {
   "cell_type": "code",
   "execution_count": 136,
   "metadata": {
    "colab": {
     "base_uri": "https://localhost:8080/",
     "height": 35
    },
    "colab_type": "code",
    "executionInfo": {
     "elapsed": 663,
     "status": "ok",
     "timestamp": 1569879316650,
     "user": {
      "displayName": "Armine Hayrapetyan",
      "photoUrl": "https://lh3.googleusercontent.com/a-/AAuE7mAOrh55dhq4X-hM1ErFijFHDu7VA-MTK1Hu_VGyBg=s64",
      "userId": "14561772578822161657"
     },
     "user_tz": -180
    },
    "id": "qIVX4tfFGDJx",
    "outputId": "c3a2f74c-f860-4f37-c8b3-afca65715dba"
   },
   "outputs": [
    {
     "data": {
      "text/plain": [
       "array([0.00098885])"
      ]
     },
     "execution_count": 136,
     "metadata": {},
     "output_type": "execute_result"
    }
   ],
   "source": [
    "mse(y_pred_sgd - y_pred_taylor)"
   ]
  },
  {
   "cell_type": "code",
   "execution_count": 137,
   "metadata": {
    "colab": {
     "base_uri": "https://localhost:8080/",
     "height": 295
    },
    "colab_type": "code",
    "executionInfo": {
     "elapsed": 931,
     "status": "ok",
     "timestamp": 1569879079987,
     "user": {
      "displayName": "Armine Hayrapetyan",
      "photoUrl": "https://lh3.googleusercontent.com/a-/AAuE7mAOrh55dhq4X-hM1ErFijFHDu7VA-MTK1Hu_VGyBg=s64",
      "userId": "14561772578822161657"
     },
     "user_tz": -180
    },
    "id": "_OsLILh3FL7V",
    "outputId": "3ce46fbd-667b-4a7d-bbfa-a25daf48dec6"
   },
   "outputs": [
    {
     "data": {
      "image/png": "[encoded data removed]",
      "text/plain": [
       "<Figure size 432x288 with 1 Axes>"
      ]
     },
     "metadata": {
      "needs_background": "light"
     },
     "output_type": "display_data"
    }
   ],
   "source": [
    "# mini-batch gradient descent\n",
    "plt.plot(X_test, y_pred_mbgd, label = 'Mini-Batch Gradient')\n",
    "plt.plot(X_test, y_pred_taylor, label = 'Taylor approximation')\n",
    "plt.legend()\n",
    "plt.xlabel('Test data')\n",
    "plt.ylabel('Predicted value')\n",
    "plt.title('Mini-Batch Gradient vs Taylor approximation')\n",
    "plt.show()"
   ]
  },
  {
   "cell_type": "code",
   "execution_count": 138,
   "metadata": {
    "colab": {
     "base_uri": "https://localhost:8080/",
     "height": 35
    },
    "colab_type": "code",
    "executionInfo": {
     "elapsed": 746,
     "status": "ok",
     "timestamp": 1569879335420,
     "user": {
      "displayName": "Armine Hayrapetyan",
      "photoUrl": "https://lh3.googleusercontent.com/a-/AAuE7mAOrh55dhq4X-hM1ErFijFHDu7VA-MTK1Hu_VGyBg=s64",
      "userId": "14561772578822161657"
     },
     "user_tz": -180
    },
    "id": "eqQCjDLDGYkX",
    "outputId": "85edc6a3-da4a-414c-90e9-39df47a98cb1"
   },
   "outputs": [
    {
     "data": {
      "text/plain": [
       "array([0.00060841])"
      ]
     },
     "execution_count": 138,
     "metadata": {},
     "output_type": "execute_result"
    }
   ],
   "source": [
    "mse(y_pred_mbgd - y_pred_taylor)"
   ]
  },
  {
   "cell_type": "code",
   "execution_count": 139,
   "metadata": {
    "colab": {
     "base_uri": "https://localhost:8080/",
     "height": 295
    },
    "colab_type": "code",
    "executionInfo": {
     "elapsed": 794,
     "status": "ok",
     "timestamp": 1569879119501,
     "user": {
      "displayName": "Armine Hayrapetyan",
      "photoUrl": "https://lh3.googleusercontent.com/a-/AAuE7mAOrh55dhq4X-hM1ErFijFHDu7VA-MTK1Hu_VGyBg=s64",
      "userId": "14561772578822161657"
     },
     "user_tz": -180
    },
    "id": "2-4NwV2bFbgN",
    "outputId": "5a21dc1b-82f9-4736-a1de-980176cb1118"
   },
   "outputs": [
    {
     "data": {
      "image/png": "[encoded data removed]",
      "text/plain": [
       "<Figure size 432x288 with 1 Axes>"
      ]
     },
     "metadata": {
      "needs_background": "light"
     },
     "output_type": "display_data"
    }
   ],
   "source": [
    "# tensorflow\n",
    "plt.plot(X_test, y_pred_tf, label = 'Tensorflow prediction')\n",
    "plt.plot(X_test, y_pred_taylor, label = 'Taylor approximation')\n",
    "plt.legend()\n",
    "plt.xlabel('Test data')\n",
    "plt.ylabel('Predicted value')\n",
    "plt.title('Tensorflow Prediction vs Taylor approximation')\n",
    "plt.show()"
   ]
  },
  {
   "cell_type": "code",
   "execution_count": 140,
   "metadata": {
    "colab": {
     "base_uri": "https://localhost:8080/",
     "height": 35
    },
    "colab_type": "code",
    "executionInfo": {
     "elapsed": 592,
     "status": "ok",
     "timestamp": 1569879349930,
     "user": {
      "displayName": "Armine Hayrapetyan",
      "photoUrl": "https://lh3.googleusercontent.com/a-/AAuE7mAOrh55dhq4X-hM1ErFijFHDu7VA-MTK1Hu_VGyBg=s64",
      "userId": "14561772578822161657"
     },
     "user_tz": -180
    },
    "id": "lxC-WUNaFlLl",
    "outputId": "e137384a-aff3-4132-f4cb-c3afb1ea6a5a"
   },
   "outputs": [
    {
     "data": {
      "text/plain": [
       "array([0.00046937])"
      ]
     },
     "execution_count": 140,
     "metadata": {},
     "output_type": "execute_result"
    }
   ],
   "source": [
    "mse(y_pred_tf - y_pred_taylor)"
   ]
  },
  {
   "cell_type": "code",
   "execution_count": null,
   "metadata": {
    "colab": {},
    "colab_type": "code",
    "id": "bfiUUFA9Gdff"
   },
   "outputs": [],
   "source": []
  }
 ],
 "metadata": {
  "colab": {
   "collapsed_sections": [],
   "name": "Untitled8.ipynb",
   "provenance": []
  },
  "kernelspec": {
   "display_name": "Python 3",
   "language": "python",
   "name": "python3"
  },
  "language_info": {
   "codemirror_mode": {
    "name": "ipython",
    "version": 3
   },
   "file_extension": ".py",
   "mimetype": "text/x-python",
   "name": "python",
   "nbconvert_exporter": "python",
   "pygments_lexer": "ipython3",
   "version": "3.5.2"
  }
 },
 "nbformat": 4,
 "nbformat_minor": 1
}
